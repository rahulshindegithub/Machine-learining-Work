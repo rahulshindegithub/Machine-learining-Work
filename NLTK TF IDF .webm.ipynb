{
 "cells": [
  {
   "cell_type": "code",
   "execution_count": 1,
   "id": "82ee2161",
   "metadata": {},
   "outputs": [],
   "source": [
    "import nltk    ### natural language tool kit"
   ]
  },
  {
   "cell_type": "code",
   "execution_count": 1,
   "id": "e81be466",
   "metadata": {},
   "outputs": [
    {
     "name": "stdout",
     "output_type": "stream",
     "text": [
      "Requirement already satisfied: nltk in c:\\users\\lenovo\\anaconda3\\lib\\site-packages (3.7)\n",
      "Requirement already satisfied: regex>=2021.8.3 in c:\\users\\lenovo\\anaconda3\\lib\\site-packages (from nltk) (2022.3.15)\n",
      "Requirement already satisfied: click in c:\\users\\lenovo\\anaconda3\\lib\\site-packages (from nltk) (8.0.4)\n",
      "Requirement already satisfied: tqdm in c:\\users\\lenovo\\anaconda3\\lib\\site-packages (from nltk) (4.64.0)\n",
      "Requirement already satisfied: joblib in c:\\users\\lenovo\\anaconda3\\lib\\site-packages (from nltk) (1.1.0)\n",
      "Requirement already satisfied: colorama in c:\\users\\lenovo\\anaconda3\\lib\\site-packages (from click->nltk) (0.4.4)\n"
     ]
    }
   ],
   "source": [
    "!pip install nltk"
   ]
  },
  {
   "cell_type": "code",
   "execution_count": null,
   "id": "36450804",
   "metadata": {},
   "outputs": [
    {
     "name": "stdout",
     "output_type": "stream",
     "text": [
      "showing info https://raw.githubusercontent.com/nltk/nltk_data/gh-pages/index.xml\n"
     ]
    }
   ],
   "source": [
    "nltk.download()"
   ]
  },
  {
   "cell_type": "code",
   "execution_count": 2,
   "id": "a76a4ee8",
   "metadata": {},
   "outputs": [
    {
     "name": "stderr",
     "output_type": "stream",
     "text": [
      "[nltk_data] Downloading package punkt to\n",
      "[nltk_data]     C:\\Users\\lenovo\\AppData\\Roaming\\nltk_data...\n",
      "[nltk_data]   Package punkt is already up-to-date!\n"
     ]
    },
    {
     "data": {
      "text/plain": [
       "True"
      ]
     },
     "execution_count": 2,
     "metadata": {},
     "output_type": "execute_result"
    }
   ],
   "source": [
    "nltk.download('punkt')"
   ]
  },
  {
   "cell_type": "code",
   "execution_count": 12,
   "id": "752cab20",
   "metadata": {},
   "outputs": [
    {
     "name": "stderr",
     "output_type": "stream",
     "text": [
      "[nltk_data] Downloading package averaged_perceptron_tagger to\n",
      "[nltk_data]     C:\\Users\\lenovo\\AppData\\Roaming\\nltk_data...\n",
      "[nltk_data]   Unzipping taggers\\averaged_perceptron_tagger.zip.\n"
     ]
    },
    {
     "data": {
      "text/plain": [
       "True"
      ]
     },
     "execution_count": 12,
     "metadata": {},
     "output_type": "execute_result"
    }
   ],
   "source": [
    "nltk.download('averaged_perceptron_tagger')"
   ]
  },
  {
   "cell_type": "code",
   "execution_count": 18,
   "id": "1cf5b851",
   "metadata": {},
   "outputs": [
    {
     "name": "stderr",
     "output_type": "stream",
     "text": [
      "[nltk_data] Error loading pos: Package 'pos' not found in index\n"
     ]
    },
    {
     "data": {
      "text/plain": [
       "False"
      ]
     },
     "execution_count": 18,
     "metadata": {},
     "output_type": "execute_result"
    }
   ],
   "source": [
    "nltk.download()"
   ]
  },
  {
   "cell_type": "code",
   "execution_count": null,
   "id": "cad721fd",
   "metadata": {},
   "outputs": [],
   "source": []
  },
  {
   "cell_type": "code",
   "execution_count": 3,
   "id": "60da0caf",
   "metadata": {},
   "outputs": [],
   "source": [
    "text = \"\"\"Descriptive Analysis is the type of analysis of data that helps describe, show or summarize data points in a\n",
    "constructive way such that patterns might emerge that fulfill every condition of the data.\n",
    "It is one of the most important steps for conducting statistical data analysis.\n",
    "It gives you a conclusion of the distribution of your data, helps you detect typos and outliers, and enables\n",
    "you to identify similarities among variables, thus making you ready for conducting further statistical\n",
    "analyses. \"\"\"\n",
    "\n"
   ]
  },
  {
   "cell_type": "code",
   "execution_count": 4,
   "id": "341c0023",
   "metadata": {},
   "outputs": [
    {
     "data": {
      "text/plain": [
       "['Descriptive Analysis is the type of analysis of data that helps describe, show or summarize data points in a\\nconstructive way such that patterns might emerge that fulfill every condition of the data.',\n",
       " 'It is one of the most important steps for conducting statistical data analysis.',\n",
       " 'It gives you a conclusion of the distribution of your data, helps you detect typos and outliers, and enables\\nyou to identify similarities among variables, thus making you ready for conducting further statistical\\nanalyses.']"
      ]
     },
     "execution_count": 4,
     "metadata": {},
     "output_type": "execute_result"
    }
   ],
   "source": [
    "nltk.sent_tokenize(text)"
   ]
  },
  {
   "cell_type": "code",
   "execution_count": 5,
   "id": "516b93eb",
   "metadata": {},
   "outputs": [
    {
     "data": {
      "text/plain": [
       "'It is one of the most important steps for conducting statistical data analysis.'"
      ]
     },
     "execution_count": 5,
     "metadata": {},
     "output_type": "execute_result"
    }
   ],
   "source": [
    "nltk.sent_tokenize(text)[1]"
   ]
  },
  {
   "cell_type": "code",
   "execution_count": 6,
   "id": "622328fb",
   "metadata": {},
   "outputs": [
    {
     "data": {
      "text/plain": [
       "'Descriptive Analysis is the type of analysis of data that helps describe, show or summarize data points in a\\nconstructive way such that patterns might emerge that fulfill every condition of the data.'"
      ]
     },
     "execution_count": 6,
     "metadata": {},
     "output_type": "execute_result"
    }
   ],
   "source": [
    "nltk.sent_tokenize(text)[0]"
   ]
  },
  {
   "cell_type": "code",
   "execution_count": 7,
   "id": "ed9aba6f",
   "metadata": {},
   "outputs": [
    {
     "data": {
      "text/plain": [
       "'It gives you a conclusion of the distribution of your data, helps you detect typos and outliers, and enables\\nyou to identify similarities among variables, thus making you ready for conducting further statistical\\nanalyses.'"
      ]
     },
     "execution_count": 7,
     "metadata": {},
     "output_type": "execute_result"
    }
   ],
   "source": [
    "nltk.sent_tokenize(text)[2]"
   ]
  },
  {
   "cell_type": "code",
   "execution_count": 8,
   "id": "acfaa23b",
   "metadata": {},
   "outputs": [
    {
     "ename": "IndexError",
     "evalue": "list index out of range",
     "output_type": "error",
     "traceback": [
      "\u001b[1;31m---------------------------------------------------------------------------\u001b[0m",
      "\u001b[1;31mIndexError\u001b[0m                                Traceback (most recent call last)",
      "Input \u001b[1;32mIn [8]\u001b[0m, in \u001b[0;36m<cell line: 1>\u001b[1;34m()\u001b[0m\n\u001b[1;32m----> 1\u001b[0m \u001b[43mnltk\u001b[49m\u001b[38;5;241;43m.\u001b[39;49m\u001b[43msent_tokenize\u001b[49m\u001b[43m(\u001b[49m\u001b[43mtext\u001b[49m\u001b[43m)\u001b[49m\u001b[43m[\u001b[49m\u001b[38;5;241;43m3\u001b[39;49m\u001b[43m]\u001b[49m\n",
      "\u001b[1;31mIndexError\u001b[0m: list index out of range"
     ]
    }
   ],
   "source": [
    "nltk.sent_tokenize(text)[3]"
   ]
  },
  {
   "cell_type": "code",
   "execution_count": 9,
   "id": "bd4eebbd",
   "metadata": {},
   "outputs": [
    {
     "data": {
      "text/plain": [
       "['Descriptive',\n",
       " 'Analysis',\n",
       " 'is',\n",
       " 'the',\n",
       " 'type',\n",
       " 'of',\n",
       " 'analysis',\n",
       " 'of',\n",
       " 'data',\n",
       " 'that',\n",
       " 'helps',\n",
       " 'describe',\n",
       " ',',\n",
       " 'show',\n",
       " 'or',\n",
       " 'summarize',\n",
       " 'data',\n",
       " 'points',\n",
       " 'in',\n",
       " 'a',\n",
       " 'constructive',\n",
       " 'way',\n",
       " 'such',\n",
       " 'that',\n",
       " 'patterns',\n",
       " 'might',\n",
       " 'emerge',\n",
       " 'that',\n",
       " 'fulfill',\n",
       " 'every',\n",
       " 'condition',\n",
       " 'of',\n",
       " 'the',\n",
       " 'data',\n",
       " '.',\n",
       " 'It',\n",
       " 'is',\n",
       " 'one',\n",
       " 'of',\n",
       " 'the',\n",
       " 'most',\n",
       " 'important',\n",
       " 'steps',\n",
       " 'for',\n",
       " 'conducting',\n",
       " 'statistical',\n",
       " 'data',\n",
       " 'analysis',\n",
       " '.',\n",
       " 'It',\n",
       " 'gives',\n",
       " 'you',\n",
       " 'a',\n",
       " 'conclusion',\n",
       " 'of',\n",
       " 'the',\n",
       " 'distribution',\n",
       " 'of',\n",
       " 'your',\n",
       " 'data',\n",
       " ',',\n",
       " 'helps',\n",
       " 'you',\n",
       " 'detect',\n",
       " 'typos',\n",
       " 'and',\n",
       " 'outliers',\n",
       " ',',\n",
       " 'and',\n",
       " 'enables',\n",
       " 'you',\n",
       " 'to',\n",
       " 'identify',\n",
       " 'similarities',\n",
       " 'among',\n",
       " 'variables',\n",
       " ',',\n",
       " 'thus',\n",
       " 'making',\n",
       " 'you',\n",
       " 'ready',\n",
       " 'for',\n",
       " 'conducting',\n",
       " 'further',\n",
       " 'statistical',\n",
       " 'analyses',\n",
       " '.']"
      ]
     },
     "execution_count": 9,
     "metadata": {},
     "output_type": "execute_result"
    }
   ],
   "source": [
    "nltk.word_tokenize(text)"
   ]
  },
  {
   "cell_type": "code",
   "execution_count": 16,
   "id": "9daacaec",
   "metadata": {},
   "outputs": [],
   "source": [
    "text1 = \"we are trying to test nltk lib , in ineuron class\""
   ]
  },
  {
   "cell_type": "code",
   "execution_count": 17,
   "id": "71a1c4e9",
   "metadata": {},
   "outputs": [
    {
     "ename": "TypeError",
     "evalue": "tokens: expected a list of strings, got a string",
     "output_type": "error",
     "traceback": [
      "\u001b[1;31m---------------------------------------------------------------------------\u001b[0m",
      "\u001b[1;31mTypeError\u001b[0m                                 Traceback (most recent call last)",
      "Input \u001b[1;32mIn [17]\u001b[0m, in \u001b[0;36m<cell line: 1>\u001b[1;34m()\u001b[0m\n\u001b[1;32m----> 1\u001b[0m \u001b[43mnltk\u001b[49m\u001b[38;5;241;43m.\u001b[39;49m\u001b[43mpos_tag\u001b[49m\u001b[43m(\u001b[49m\u001b[43mtext1\u001b[49m\u001b[43m)\u001b[49m\n",
      "File \u001b[1;32m~\\anaconda3\\lib\\site-packages\\nltk\\tag\\__init__.py:166\u001b[0m, in \u001b[0;36mpos_tag\u001b[1;34m(tokens, tagset, lang)\u001b[0m\n\u001b[0;32m    141\u001b[0m \u001b[38;5;124;03m\"\"\"\u001b[39;00m\n\u001b[0;32m    142\u001b[0m \u001b[38;5;124;03mUse NLTK's currently recommended part of speech tagger to\u001b[39;00m\n\u001b[0;32m    143\u001b[0m \u001b[38;5;124;03mtag the given list of tokens.\u001b[39;00m\n\u001b[1;32m   (...)\u001b[0m\n\u001b[0;32m    163\u001b[0m \u001b[38;5;124;03m:rtype: list(tuple(str, str))\u001b[39;00m\n\u001b[0;32m    164\u001b[0m \u001b[38;5;124;03m\"\"\"\u001b[39;00m\n\u001b[0;32m    165\u001b[0m tagger \u001b[38;5;241m=\u001b[39m _get_tagger(lang)\n\u001b[1;32m--> 166\u001b[0m \u001b[38;5;28;01mreturn\u001b[39;00m \u001b[43m_pos_tag\u001b[49m\u001b[43m(\u001b[49m\u001b[43mtokens\u001b[49m\u001b[43m,\u001b[49m\u001b[43m \u001b[49m\u001b[43mtagset\u001b[49m\u001b[43m,\u001b[49m\u001b[43m \u001b[49m\u001b[43mtagger\u001b[49m\u001b[43m,\u001b[49m\u001b[43m \u001b[49m\u001b[43mlang\u001b[49m\u001b[43m)\u001b[49m\n",
      "File \u001b[1;32m~\\anaconda3\\lib\\site-packages\\nltk\\tag\\__init__.py:120\u001b[0m, in \u001b[0;36m_pos_tag\u001b[1;34m(tokens, tagset, tagger, lang)\u001b[0m\n\u001b[0;32m    118\u001b[0m \u001b[38;5;66;03m# Throws Error if tokens is of string type\u001b[39;00m\n\u001b[0;32m    119\u001b[0m \u001b[38;5;28;01melif\u001b[39;00m \u001b[38;5;28misinstance\u001b[39m(tokens, \u001b[38;5;28mstr\u001b[39m):\n\u001b[1;32m--> 120\u001b[0m     \u001b[38;5;28;01mraise\u001b[39;00m \u001b[38;5;167;01mTypeError\u001b[39;00m(\u001b[38;5;124m\"\u001b[39m\u001b[38;5;124mtokens: expected a list of strings, got a string\u001b[39m\u001b[38;5;124m\"\u001b[39m)\n\u001b[0;32m    122\u001b[0m \u001b[38;5;28;01melse\u001b[39;00m:\n\u001b[0;32m    123\u001b[0m     tagged_tokens \u001b[38;5;241m=\u001b[39m tagger\u001b[38;5;241m.\u001b[39mtag(tokens)\n",
      "\u001b[1;31mTypeError\u001b[0m: tokens: expected a list of strings, got a string"
     ]
    }
   ],
   "source": [
    "nltk.pos_tag(text1)"
   ]
  },
  {
   "cell_type": "code",
   "execution_count": null,
   "id": "c2d8f2fc",
   "metadata": {},
   "outputs": [],
   "source": [
    "nltk.pos_tag(nltk.word_tokenize(text1))"
   ]
  },
  {
   "cell_type": "code",
   "execution_count": null,
   "id": "8a7779b2",
   "metadata": {},
   "outputs": [],
   "source": [
    "from nltk.corpus import stopword\n",
    "stopword.word('english')"
   ]
  },
  {
   "cell_type": "code",
   "execution_count": null,
   "id": "0c52e009",
   "metadata": {},
   "outputs": [],
   "source": [
    "import string\n",
    "string.punctuation"
   ]
  }
 ],
 "metadata": {
  "kernelspec": {
   "display_name": "Python 3 (ipykernel)",
   "language": "python",
   "name": "python3"
  },
  "language_info": {
   "codemirror_mode": {
    "name": "ipython",
    "version": 3
   },
   "file_extension": ".py",
   "mimetype": "text/x-python",
   "name": "python",
   "nbconvert_exporter": "python",
   "pygments_lexer": "ipython3",
   "version": "3.9.12"
  }
 },
 "nbformat": 4,
 "nbformat_minor": 5
}
